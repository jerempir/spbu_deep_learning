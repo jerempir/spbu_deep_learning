{
 "cells": [
  {
   "cell_type": "code",
   "execution_count": 2,
   "metadata": {
    "collapsed": true,
    "pycharm": {
     "name": "#%%\n"
    }
   },
   "outputs": [
    {
     "name": "stdout",
     "output_type": "stream",
     "text": [
      "Доступна ли GPU: True\n",
      "Название GPU: NVIDIA GeForce GTX 1050\n"
     ]
    }
   ],
   "source": [
    "# Проверяем доступность GPU в системе\n",
    "import torch\n",
    "\n",
    "gpu_available = torch.cuda.is_available()\n",
    "gpu_name = torch.cuda.get_device_name(0) if gpu_available else \"GPU не найдена\"\n",
    "\n",
    "print(f\"Доступна ли GPU: {gpu_available}\")\n",
    "if gpu_available:\n",
    "    print(f\"Название GPU: {gpu_name}\")"
   ]
  },
  {
   "cell_type": "code",
   "execution_count": null,
   "outputs": [],
   "source": [],
   "metadata": {
    "collapsed": false,
    "pycharm": {
     "name": "#%%\n"
    }
   }
  }
 ],
 "metadata": {
  "kernelspec": {
   "display_name": "Python 3",
   "language": "python",
   "name": "python3"
  },
  "language_info": {
   "codemirror_mode": {
    "name": "ipython",
    "version": 2
   },
   "file_extension": ".py",
   "mimetype": "text/x-python",
   "name": "python",
   "nbconvert_exporter": "python",
   "pygments_lexer": "ipython2",
   "version": "2.7.6"
  }
 },
 "nbformat": 4,
 "nbformat_minor": 0
}